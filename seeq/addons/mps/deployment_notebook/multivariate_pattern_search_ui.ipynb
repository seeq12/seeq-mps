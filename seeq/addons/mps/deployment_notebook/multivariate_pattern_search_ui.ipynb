{
 "cells": [
  {
   "cell_type": "code",
   "execution_count": null,
   "id": "a2fd5269",
   "metadata": {
    "hidePrompt": true
   },
   "outputs": [],
   "source": [
    "import warnings\n",
    "\n",
    "warnings.simplefilter(action='ignore', category=FutureWarning)\n",
    "warnings.simplefilter(action='ignore', category=UserWarning)\n",
    "warnings.simplefilter(action='ignore', category=RuntimeWarning)\n",
    "\n",
    "from seeq.addons.mps import MpsUI\n",
    "from seeq.addons.mps import utils\n",
    "\n",
    "server, workbook_ID, worksheet_ID = utils.get_server_workbook_worksheet_ids(jupyter_notebook_url)\n",
    "\n",
    "display_ui = MpsUI(server, workbook_ID, worksheet_ID)\n",
    "\n",
    "display(display_ui)"
   ]
  }
 ],
 "metadata": {
  "kernelspec": {
   "display_name": "Python 3.11",
   "language": "python",
   "name": "python311"
  },
  "language_info": {
   "codemirror_mode": {
    "name": "ipython",
    "version": 3
   },
   "file_extension": ".py",
   "mimetype": "text/x-python",
   "name": "python",
   "nbconvert_exporter": "python",
   "pygments_lexer": "ipython3",
   "version": "3.11.10"
  }
 },
 "nbformat": 4,
 "nbformat_minor": 5
}