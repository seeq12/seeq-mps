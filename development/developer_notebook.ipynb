{
 "cells": [
  {
   "cell_type": "code",
   "execution_count": 1,
   "id": "3a82bc46",
   "metadata": {},
   "outputs": [
    {
     "data": {
      "application/vnd.jupyter.widget-view+json": {
       "model_id": "9e4ff1cf7199438cab14c4bb028f6034",
       "version_major": 2,
       "version_minor": 0
      },
      "text/plain": [
       "VBox(children=(HBox(children=(Label(value='Multivariate Pattern Search'),)), Text(value='MPS Analysis 173351',…"
      ]
     },
     "metadata": {},
     "output_type": "display_data"
    }
   ],
   "source": [
    "import warnings\n",
    "warnings.simplefilter(action='ignore', category=FutureWarning)\n",
    "warnings.simplefilter(action='ignore', category=UserWarning)\n",
    "warnings.simplefilter(action='ignore', category=RuntimeWarning)\n",
    "\n",
    "from seeq.addons.mps import _mps_sdl_ui\n",
    "from seeq import spy\n",
    "\n",
    "#for example\n",
    "server = 'https://explore.seeq.com/'\n",
    "workbook_ID = 'B9666919-CC26-431D-BD6C-8A1BA5945804'\n",
    "worksheet_ID = '21B88861-1799-4B7D-9E34-87D0A767650D'\n",
    "\n",
    "spy.login(url = server, \n",
    "        username='username@seeq.com',\n",
    "        password='*****',\n",
    "        ignore_ssl_errors = True\n",
    "        )\n",
    "\n",
    "display_ui = _mps_sdl_ui.MpsUI(server, workbook_ID,worksheet_ID)\n",
    "\n",
    "display(display_ui)"
   ]
  },
  {
   "cell_type": "code",
   "execution_count": null,
   "id": "c4ba0bda",
   "metadata": {},
   "outputs": [],
   "source": []
  },
  {
   "cell_type": "code",
   "execution_count": null,
   "id": "561f3d53",
   "metadata": {},
   "outputs": [],
   "source": []
  },
  {
   "cell_type": "code",
   "execution_count": null,
   "id": "41189418",
   "metadata": {},
   "outputs": [],
   "source": []
  },
  {
   "cell_type": "code",
   "execution_count": null,
   "id": "24f155c2",
   "metadata": {},
   "outputs": [],
   "source": []
  }
 ],
 "metadata": {
  "kernelspec": {
   "display_name": "venv7",
   "language": "python",
   "name": "venv7"
  },
  "language_info": {
   "codemirror_mode": {
    "name": "ipython",
    "version": 3
   },
   "file_extension": ".py",
   "mimetype": "text/x-python",
   "name": "python",
   "nbconvert_exporter": "python",
   "pygments_lexer": "ipython3",
   "version": "3.7.3"
  }
 },
 "nbformat": 4,
 "nbformat_minor": 5
}